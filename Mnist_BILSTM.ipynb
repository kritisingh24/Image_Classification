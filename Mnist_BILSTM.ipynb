{
 "cells": [
  {
   "cell_type": "code",
   "execution_count": 1,
   "metadata": {},
   "outputs": [],
   "source": [
    "from __future__ import print_function, division\n",
    "from builtins import range, input\n",
    "# Note: you may need to update your version of future\n",
    "# sudo pip install -U future"
   ]
  },
  {
   "cell_type": "code",
   "execution_count": 2,
   "metadata": {},
   "outputs": [],
   "source": [
    "import os\n",
    "from keras.models import Model\n",
    "from keras.layers import Input, LSTM, GRU, Bidirectional, GlobalMaxPooling1D, Lambda, Concatenate, Dense\n",
    "import keras.backend as K\n",
    "import numpy as np\n",
    "import pandas as pd\n",
    "import matplotlib.pyplot as plt\n",
    "\n",
    "try:\n",
    "  import keras.backend as K\n",
    "  if len(K.tensorflow_backend._get_available_gpus()) > 0:\n",
    "    from keras.layers import CuDNNLSTM as LSTM\n",
    "    from keras.layers import CuDNNGRU as GRU\n",
    "except:\n",
    "  pass\n"
   ]
  },
  {
   "cell_type": "code",
   "execution_count": 16,
   "metadata": {},
   "outputs": [],
   "source": [
    "def get_mnist(limit=None):\n",
    "  if not os.path.exists(r'C:\\Users\\Kirti\\machine_learning_examples\\nlp_class3\\train.csv'):\n",
    "    print(\"You must create a folder called train.csv\")\n",
    "  if not os.path.exists(r'C:\\Users\\Kirti\\machine_learning_examples\\nlp_class3\\train.csv'):\n",
    "    print(\"Looks like you haven't downloaded the data or it's not in the right spot.\")\n",
    "    print(\"Please get train.csv from https://www.kaggle.com/c/digit-recognizer\")\n",
    "    print(\"and place it in the train.csv folder.\")\n",
    "\n",
    "  print(\"Reading in and transforming data...\")\n",
    "  df = pd.read_csv(r'C:\\Users\\Kirti\\machine_learning_examples\\nlp_class3\\train.csv', encoding='utf-8')\n",
    "  data = df.values\n",
    "  np.random.shuffle(data)\n",
    "  X = data[:, 1:].reshape(-1, 28, 28) / 255.0 # data is from 0..255\n",
    "  Y = data[:, 0]\n",
    "  if limit is not None:\n",
    "    X, Y = X[:limit], Y[:limit]\n",
    "  return X, Y"
   ]
  },
  {
   "cell_type": "code",
   "execution_count": 17,
   "metadata": {},
   "outputs": [
    {
     "name": "stdout",
     "output_type": "stream",
     "text": [
      "Reading in and transforming data...\n"
     ]
    }
   ],
   "source": [
    "# get data\n",
    "X, Y = get_mnist()"
   ]
  },
  {
   "cell_type": "code",
   "execution_count": 18,
   "metadata": {},
   "outputs": [],
   "source": [
    "# config\n",
    "D = 28\n",
    "M = 15"
   ]
  },
  {
   "cell_type": "code",
   "execution_count": 19,
   "metadata": {},
   "outputs": [],
   "source": [
    "# input is an image of size 28x28\n",
    "input_ = Input(shape=(D, D))"
   ]
  },
  {
   "cell_type": "code",
   "execution_count": 20,
   "metadata": {},
   "outputs": [],
   "source": [
    "# up-down\n",
    "rnn1 = Bidirectional(LSTM(M, return_sequences=True))\n",
    "x1 = rnn1(input_) # output is N x D x 2M\n",
    "x1 = GlobalMaxPooling1D()(x1) # output is N x 2M"
   ]
  },
  {
   "cell_type": "code",
   "execution_count": 21,
   "metadata": {},
   "outputs": [],
   "source": [
    "# left-right\n",
    "rnn2 = Bidirectional(LSTM(M, return_sequences=True))"
   ]
  },
  {
   "cell_type": "code",
   "execution_count": 22,
   "metadata": {},
   "outputs": [],
   "source": [
    "# custom layer\n",
    "permutor = Lambda(lambda t: K.permute_dimensions(t, pattern=(0, 2, 1)))\n",
    "\n",
    "x2 = permutor(input_)\n",
    "x2 = rnn2(x2) # output is N x D x 2M\n",
    "x2 = GlobalMaxPooling1D()(x2) # output is N x 2M"
   ]
  },
  {
   "cell_type": "code",
   "execution_count": 23,
   "metadata": {},
   "outputs": [],
   "source": [
    "# put them together\n",
    "concatenator = Concatenate(axis=1)\n",
    "x = concatenator([x1, x2]) # output is N x 4M"
   ]
  },
  {
   "cell_type": "code",
   "execution_count": 24,
   "metadata": {},
   "outputs": [],
   "source": [
    "# final dense layer\n",
    "output = Dense(10, activation='softmax')(x)"
   ]
  },
  {
   "cell_type": "code",
   "execution_count": 25,
   "metadata": {},
   "outputs": [],
   "source": [
    "model = Model(inputs=input_, outputs=output)\n",
    "\n",
    "# testing\n",
    "# o = model.predict(X)\n",
    "# print(\"o.shape:\", o.shape)\n",
    "\n",
    "# compile\n",
    "model.compile(\n",
    "  loss='sparse_categorical_crossentropy',\n",
    "  optimizer='adam',\n",
    "  metrics=['accuracy']\n",
    ")"
   ]
  },
  {
   "cell_type": "code",
   "execution_count": 26,
   "metadata": {},
   "outputs": [
    {
     "name": "stdout",
     "output_type": "stream",
     "text": [
      "Training model...\n",
      "Epoch 1/10\n",
      "919/919 [==============================] - 15s 17ms/step - loss: 0.7866 - accuracy: 0.8071 - val_loss: 0.3275 - val_accuracy: 0.9137\n",
      "Epoch 2/10\n",
      "919/919 [==============================] - 14s 15ms/step - loss: 0.2439 - accuracy: 0.9341 - val_loss: 0.2089 - val_accuracy: 0.9430\n",
      "Epoch 3/10\n",
      "919/919 [==============================] - 16s 17ms/step - loss: 0.1692 - accuracy: 0.9510 - val_loss: 0.1668 - val_accuracy: 0.9515\n",
      "Epoch 4/10\n",
      "919/919 [==============================] - 16s 18ms/step - loss: 0.1402 - accuracy: 0.9592 - val_loss: 0.1503 - val_accuracy: 0.9549\n",
      "Epoch 5/10\n",
      "919/919 [==============================] - 16s 17ms/step - loss: 0.1161 - accuracy: 0.9662 - val_loss: 0.1449 - val_accuracy: 0.9571\n",
      "Epoch 6/10\n",
      "919/919 [==============================] - 16s 17ms/step - loss: 0.1024 - accuracy: 0.9695 - val_loss: 0.1204 - val_accuracy: 0.9637\n",
      "Epoch 7/10\n",
      "919/919 [==============================] - 14s 15ms/step - loss: 0.0887 - accuracy: 0.9743 - val_loss: 0.1142 - val_accuracy: 0.9652\n",
      "Epoch 8/10\n",
      "919/919 [==============================] - 15s 17ms/step - loss: 0.0780 - accuracy: 0.9770 - val_loss: 0.1056 - val_accuracy: 0.9681\n",
      "Epoch 9/10\n",
      "919/919 [==============================] - 15s 16ms/step - loss: 0.0722 - accuracy: 0.9788 - val_loss: 0.1029 - val_accuracy: 0.9683\n",
      "Epoch 10/10\n",
      "919/919 [==============================] - 14s 15ms/step - loss: 0.0676 - accuracy: 0.9796 - val_loss: 0.0876 - val_accuracy: 0.9736\n"
     ]
    }
   ],
   "source": [
    "# train\n",
    "print('Training model...')\n",
    "r = model.fit(X, Y, batch_size=32, epochs=10, validation_split=0.3)"
   ]
  },
  {
   "cell_type": "code",
   "execution_count": 27,
   "metadata": {},
   "outputs": [
    {
     "data": {
      "image/png": "[encoded data removed]",
      "text/plain": [
       "<Figure size 432x288 with 1 Axes>"
      ]
     },
     "metadata": {
      "needs_background": "light"
     },
     "output_type": "display_data"
    }
   ],
   "source": [
    "# plot some data\n",
    "plt.plot(r.history['loss'], label='loss')\n",
    "plt.plot(r.history['val_loss'], label='val_loss')\n",
    "plt.legend()\n",
    "plt.show()"
   ]
  },
  {
   "cell_type": "code",
   "execution_count": 28,
   "metadata": {},
   "outputs": [
    {
     "data": {
      "image/png": "[encoded data removed]",
      "text/plain": [
       "<Figure size 432x288 with 1 Axes>"
      ]
     },
     "metadata": {
      "needs_background": "light"
     },
     "output_type": "display_data"
    }
   ],
   "source": [
    "# accuracies\n",
    "plt.plot(r.history['accuracy'], label='acc')\n",
    "plt.plot(r.history['val_accuracy'], label='val_acc')\n",
    "plt.legend()\n",
    "plt.show()"
   ]
  }
 ],
 "metadata": {
  "kernelspec": {
   "display_name": "Python 3",
   "language": "python",
   "name": "python3"
  },
  "language_info": {
   "codemirror_mode": {
    "name": "ipython",
    "version": 3
   },
   "file_extension": ".py",
   "mimetype": "text/x-python",
   "name": "python",
   "nbconvert_exporter": "python",
   "pygments_lexer": "ipython3",
   "version": "3.8.3"
  }
 },
 "nbformat": 4,
 "nbformat_minor": 4
}
